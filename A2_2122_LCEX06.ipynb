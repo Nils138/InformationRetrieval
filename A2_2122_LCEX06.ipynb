{
  "nbformat": 4,
  "nbformat_minor": 0,
  "metadata": {
    "colab": {
      "name": "A2_2122_LCEX06.ipynb",
      "provenance": [],
      "collapsed_sections": []
    },
    "kernelspec": {
      "display_name": "Python 3",
      "language": "python",
      "name": "python3"
    },
    "language_info": {
      "codemirror_mode": {
        "name": "ipython",
        "version": 3
      },
      "file_extension": ".py",
      "mimetype": "text/x-python",
      "name": "python",
      "nbconvert_exporter": "python",
      "pygments_lexer": "ipython3",
      "version": "3.6.0"
    }
  },
  "cells": [
    {
      "cell_type": "markdown",
      "metadata": {
        "id": "cZay1ryJyqEq"
      },
      "source": [
        "\n",
        "# Assignment 2: Information Extraction\n",
        "## Learning goals of this assignment:\n",
        "1. Become familiar with the intricacies and challenges of time expression labelling and finding matching events\n",
        "2. Define a set of patterns for extracting time patterns from text\n",
        "3. Calculate precision for the output of your code on an unseen text\n",
        "4. Gain insight into the importance of pattern generalizability \n",
        "\n",
        "Note that the assignment will be graded with a Pass/Fail system.\n",
        "\n",
        "Whenever you have any questions, simply talk to the TAs or send a mail to Manuela (manuela.bergau@ru.nl), Nienke (nienke.wessel@ru.nl), or Justine (j.winkler@student.ru.nl). We would appreciate it if you do not contact us via WhatsApp for non-urgent matters, so we can keep our TA work and private life (somewhat) separate.\n",
        "\n",
        "_We only support the use of [Google Colab](https://https://colab.research.google.com/) as all assignments have been implemented and tested using this. In case of (strange) bugs on other platforms, please consider switching to Colab to make sure that we can provide with all the help you may need._"
      ]
    },
    {
      "cell_type": "markdown",
      "metadata": {
        "id": "qpFkvbbNBAJd"
      },
      "source": [
        "## Installation\n",
        "First, make sure pandas, plotly and nltk are installed:"
      ]
    },
    {
      "cell_type": "code",
      "metadata": {
        "id": "X2eqen9DBAJd",
        "colab": {
          "base_uri": "https://localhost:8080/"
        },
        "outputId": "510cca52-1896-4d64-dd0d-ace991b089d1"
      },
      "source": [
        "!pip install numpy\n",
        "!pip install pandas"
      ],
      "execution_count": 43,
      "outputs": [
        {
          "output_type": "stream",
          "name": "stdout",
          "text": [
            "Requirement already satisfied: numpy in /usr/local/lib/python3.7/dist-packages (1.19.5)\n",
            "Requirement already satisfied: pandas in /usr/local/lib/python3.7/dist-packages (1.1.5)\n",
            "Requirement already satisfied: python-dateutil>=2.7.3 in /usr/local/lib/python3.7/dist-packages (from pandas) (2.8.2)\n",
            "Requirement already satisfied: pytz>=2017.2 in /usr/local/lib/python3.7/dist-packages (from pandas) (2018.9)\n",
            "Requirement already satisfied: numpy>=1.15.4 in /usr/local/lib/python3.7/dist-packages (from pandas) (1.19.5)\n",
            "Requirement already satisfied: six>=1.5 in /usr/local/lib/python3.7/dist-packages (from python-dateutil>=2.7.3->pandas) (1.15.0)\n"
          ]
        }
      ]
    },
    {
      "cell_type": "markdown",
      "metadata": {
        "id": "vT9zXBdrBAJf"
      },
      "source": [
        "## Extracting timelines and matching events from biographies\n",
        "### Uploading files to Colab\n",
        "\n",
        "Similar to the previous assignment you need to upload some files that are needed for the assignemnt in the working directory. For this assignment you need to upload the files *KatherineJohnson.txt*, *MaryJackson.txt* and *utils.py*.\n",
        "\n",
        "Instead of using the upload functionality, you can also download the file directly in the notebook. Run the following command in a code cell to do so:\n",
        "\n",
        "```\n",
        "!wget http://transfer.sh/nxhiju/MaryJackson.txt\n",
        "!wget http://transfer.sh/SAJ6Sg/KatherineJohnson.txt\n",
        "!wget http://transfer.sh/BiOSQt/utils.py\n",
        "```\n",
        "\n",
        "### Loading & inspecting the KatherineJohnson.txt\n",
        "\n",
        "The task of information extraction often focuses on extracting events from text. We want to know who did what when and why. In this exercise we focus on the ‘when’ aspect and you will create timelines of events described in two texts (the biographies of Katherine Johnson and Mary Jackson) and you will find the matching events (i.e. overlapping dates) of the two timelines.\n",
        "\n",
        "Here, your goal is to identify and extract date expressions. \n",
        "A **date expression** is a sequence within the text (can contain letters, numbers, and/or punctuation) that expresses a point in time or a period of time. First, you want to get an impression of the date expressions in the biography of Katherine Johnson. \n",
        "\n",
        "Run the next cell to see KatherineJohnson.txt. *Do not yet look at MaryJackson.txt, an extraction of the biography of Mary Jackson!*"
      ]
    },
    {
      "cell_type": "code",
      "metadata": {
        "id": "nzcCXt38BAJf",
        "colab": {
          "base_uri": "https://localhost:8080/"
        },
        "outputId": "c880becd-c5f4-409c-cf6e-d0691130df62"
      },
      "source": [
        "# Make sure KatherineJohnson.txt and MaryJackson.txt are in the working directory. \n",
        "import os\n",
        "\n",
        "def read_file(file_name):\n",
        "  with open(file_name, \"r\") as f:\n",
        "    return f.read()\n",
        "\n",
        "working_dir = os.getcwd()  # get our working directory\n",
        "text_katherine = read_file(os.path.join(working_dir, 'KatherineJohnson.txt'))\n",
        "print(text_katherine)"
      ],
      "execution_count": 44,
      "outputs": [
        {
          "output_type": "stream",
          "name": "stdout",
          "text": [
            "Katherine Johnson\n",
            "From Wikipedia, the free encyclopedia\n",
            "\n",
            "Creola Katherine Johnson (née Coleman; August 26, 1918 – February 24, 2020) was an American mathematician whose calculations of orbital mechanics as a NASA employee were critical to the success of the first and subsequent U.S. crewed spaceflights.[1] During her 33-year career at NASA and its predecessor, she earned a reputation for mastering complex manual calculations and helped pioneer the use of computers to perform the tasks.\n",
            "\n",
            "Early life\n",
            "Katherine Johnson was born as Creola Katherine Coleman on August 26, 1918, in White Sulphur Springs, West Virginia, to Joylette Roberta (née Lowe) and Joshua McKinley Coleman.[5][6][7][8] She was the youngest of four children.[9] Her mother was a teacher and her father was a lumberman, farmer, and handyman, and worked at the Greenbrier Hotel.[6][10]\n",
            "\n",
            "External video\n",
            "video icon Interview with West Virginia State University President Anthony Jenkins on Johnson's studies and career, October 21, 2019, C-SPAN\n",
            "\n",
            "After graduating from high school at 14, Johnson enrolled at West Virginia State, a historically black college.[14] As a student, she took every math course offered by the college. Multiple professors mentored her, including the chemist and mathematician Angie Turner King, who had mentored Coleman throughout high school, and W. W. Schieffelin Claytor, the third African-American to receive a Ph.D. in mathematics. Claytor added new mathematics courses just for Johnson.[15] She graduated summa cum laude in 1937, with degrees in mathematics and French, at age 18.[16][12][17] \n",
            "\n",
            "In 1939, after marrying her first husband, James Goble, she left her teaching job and enrolled in a graduate math program. She quit one year later after becoming pregnant and chose to focus on her family life.[14] She was the first African-American woman to attend graduate school at West Virginia University in Morgantown, West Virginia. Through WVSC's president, Dr. John W. Davis, she became one of three African-American students,[14] and the only woman, selected to integrate the graduate school after the 1938 United States Supreme Court ruling Missouri ex rel. Gaines v. Canada. \n",
            "\n",
            "Career\n",
            "Photograph of Johnson sitting at a desk\n",
            "Johnson working as a \"computer\" at NASA in 1966\n",
            "\n",
            "Johnson decided on a career as a research mathematician, although this was a difficult field for African Americans and women to enter. The first jobs she found were in teaching. At a family gathering in 1952, a relative mentioned that the National Advisory Committee for Aeronautics (NACA) was hiring mathematicians.[14] At the Langley Memorial Aeronautical Laboratory, based in Hampton, Virginia, near Langley Field, NACA hired African-American mathematicians as well as whites for their Guidance and Navigation Department. Johnson accepted a job offer from the agency in June 1953.[6]\n",
            "\n",
            "From 1953 to 1958, Johnson worked as a computer,[21] analyzing topics such as gust alleviation for aircraft. Originally assigned to the West Area Computers section supervised by mathematician Dorothy Vaughan, Johnson was reassigned to the Guidance and Control Division of Langley's Flight Research Division. It was staffed by white male engineers.[22] In keeping with state racial segregation laws, and federal workplace segregation introduced under President Woodrow Wilson in the early 20th century, Johnson and the other African-American women in the computing pool were required to work, eat, and use restrooms that were separate from those of their white peers. Their office was labeled as \"Colored Computers\". In an interview with WHRO-TV, Johnson stated that she \"I didn't feel any segregation. I knew it was there, but I didn't feel it.\"[23]\n",
            "\n",
            "NACA disbanded the colored computing pool in 1958 when the agency was superseded by NASA, which adopted digital computers. Although the installation was desegregated,[22] forms of discrimination were still pervasive. \n",
            "\n",
            "From 1958 until her retirement in 1986, Johnson worked as an aerospace technologist, moving during her career to the Spacecraft Controls Branch. She calculated the trajectory for the May 5, 1961 space flight of Alan Shepard, the first American in space.[1] She also calculated the launch window for his 1961 Mercury mission.[25] She plotted backup navigation charts for astronauts in case of electronic failures.[6] When NASA used electronic computers for the first time to calculate John Glenn's orbit around Earth, officials called on Johnson to verify the computer's numbers; Glenn had asked for her specifically and had refused to fly unless Johnson verified the calculations.[1][26][27] Biography.com states these were \"far more difficult calculations, to account for the gravitational pulls of celestial bodies\".[28] Author Margot Lee Shetterly stated, \"So the astronaut who became a hero, looked to this black woman in the still-segregated South at the time as one of the key parts of making sure his mission would be a success.\" She added that, in a time where computing was \"women's work\" and engineering was left to men, \"it really does have to do with us over the course of time sort of not valuing that work that was done by women, however necessary, as much as we might. And it has taken history to get a perspective on that.\"[29]\n",
            "\n",
            "Johnson later worked directly with digital computers. Her ability and reputation for accuracy helped to establish confidence in the new technology.[28] On May 5, 1961, her work helped to ensure that Alan Shepard's Freedom 7 Mercury capsule would be found quickly after landing, using the accurate trajectory that had been established.[30]\n",
            "\n",
            "She also helped to calculate the trajectory for the 1969 Apollo 11 flight to the Moon.[1][28] On 20 July 1969 during the Moon landing, Johnson was at a meeting in the Pocono Mountains. She and a few others crowded around a small television screen watching the first steps on the Moon.[1] In 1970, Johnson worked on the Apollo 13 Moon mission. When the mission was aborted, her work on backup procedures and charts helped set a safe path for the crew's return to Earth,[28] creating a one-star observation system that would allow astronauts to determine their location with accuracy. In a 2010 interview, Johnson recalled, \"Everybody was concerned about them getting there. We were concerned about them getting back.\"[30] Later in her career, Johnson worked on the Space Shuttle program, the Earth Resources Satellite,[1][28] and on plans for a mission to Mars.[31]\n",
            "\n",
            "Johnson spent her later years encouraging students to enter the fields of science, technology, engineering, and mathematics (STEM).[32]\n",
            "\n",
            "Personal life and death\n",
            "Katherine and James Francis Goble had three daughters: Constance, Joylette, and Katherine. The family lived in Newport News, Virginia, from 1953. James died of an inoperable brain tumor in 1956[33] and, three years later, Katherine married James A. Johnson. the pair were married for 60 years until his death in March 2019 at the age of 93.[5][34][35]\n",
            "\n",
            "\n",
            "Text from https://en.wikipedia.org/wiki/Katherine_Johnson, adapted by the teaching team\n",
            "\n"
          ]
        }
      ]
    },
    {
      "cell_type": "markdown",
      "metadata": {
        "id": "IGciYNYkBAJg"
      },
      "source": [
        "#### Task 1: Examine the biography of Katherine Johnson, and notice the patterns in which the date expressions occur. List and describe your observations in the next cell. "
      ]
    },
    {
      "cell_type": "markdown",
      "metadata": {
        "id": "1CMr_JYmBAJh"
      },
      "source": [
        "Exact years are easy in patterns, as these occur in the form: \"in <4 numbers representing the year>\", which in regex would be \"[Ii]n \\d{4}\". Because of the timeframe of this particular text, this could be specified to \"[Ii]n 19\\d{2}\" as all the exact years occur in the 20th century. It should be noted that sometimes \"in\" is replaced by \"the\" or something similar (\"a\").\n",
        "\n",
        "Periods specified with exact years are also easy to recognize: \"from \\<year> to \\<year>\". One exception to this is \"From 1958 until her retirement in 1986\", for which we need to leave a lot of freedom for 'filler' words. However, the second year would be picked up with the first paragraph, so linking these using a regular \"from \\<year>\" may be the easiest strategy.\n",
        "\n",
        "Exact dates follow a similar pattern: \"\\<Month> \\<day>, \\<year>\", which are a bit harder to express using regular expressions but can be done by listing the individual months. The day is slightly different from the year as it can be either 1 or 2 digits, but again this can be done using regular expressions. Directly before these types of pattners is usually a 'on', but not always."
      ]
    },
    {
      "cell_type": "markdown",
      "metadata": {
        "id": "Ap186JxsBAJh"
      },
      "source": [
        "#### Task 2: Implement the function *sentence_tokenize_text* so that it splits a text into a list of sentences. "
      ]
    },
    {
      "cell_type": "code",
      "metadata": {
        "id": "jomV13DvBAJh"
      },
      "source": [
        "import re\n",
        "\n",
        "def sentence_tokenize_text(text):\n",
        "  \"\"\"\n",
        "  :param text: An input text, i.e. a string\n",
        "  :return: A list of strings, where each string is one sentence\n",
        "  \"\"\"\n",
        "  # Regex explanation: sentences start with a capital [A-Z], are followed by \n",
        "  # some characters .*?, end with a period, exclamation mark, question mark, or\n",
        "  # whitespace [.!\\?\\\\n]. The final clause [^a-zA-Z]* is there mainly for the \n",
        "  # references, but the idea is that the sentence continues until any capitals \n",
        "  # are encountered. This filters out most sentences, but there are still broken\n",
        "  # sentences (e.g. names), which are too hard to differentiate.\n",
        "  return re.findall('[A-Z].*?[.!\\?][^a-zA-Z]*', text.strip())\n",
        "  \n",
        "#sentence_tokenize_text(text_katherine)  # You can display the result for testing. "
      ],
      "execution_count": 45,
      "outputs": []
    },
    {
      "cell_type": "markdown",
      "metadata": {
        "id": "9w4p7pIcBAJh"
      },
      "source": [
        "#### Task 3: Implement the function *extract_date_expressions* so that it extracts date expressions from sentences.\n",
        "The function should take in our list of sentences and return a pandas DataFrame. This DataFrame has two columns:\n",
        "- Date: The extracted date expressions\n",
        "- Sentence: The sentence from which a data expression was extracted \n",
        "\n",
        "**Write your own patterns** and do not rely on libraries that automatically extract date expressions as learning about regular expressions is one of the learning objectives of the exercise.\n",
        "\n",
        "*Hint: Check out https://regexr.com/ for testing and refining the regular expressions you use to capture date expressions. It also has a handy cheat sheet you can use. *\n",
        "\n",
        "*For coding newbies: You can contact the TAs to get a regex example function in Python.*"
      ]
    },
    {
      "cell_type": "code",
      "metadata": {
        "collapsed": true,
        "id": "5N8NDSJPBAJi"
      },
      "source": [
        "import pandas as pd\n",
        "\n",
        "def extract_date_expressions(sentences):\n",
        "  \"\"\"\n",
        "  :param sentences: A list of strings, where each string is one sentences\n",
        "  :return: A pandas DataFrame with the columns \n",
        "                \"Date\" (extracted date expressions as a string)\n",
        "                \"Sentence\" (sentences from which a date expression was extracted)\n",
        "  \"\"\"\n",
        "  # Regex explanation: This regex encompasses either the specific date or just \n",
        "  # the year by one outer group that only differentiates at the end. The first \n",
        "  #part consists of Month followed by a number 1-31 (meaning February 31 is\n",
        "  # possible, but this is ignored), followed by possibly a comma and the year in\n",
        "  # 4 digits. The second possibility is just 4 digits for the year, and there's \n",
        "  # probably a better way to do that but this works so i'm keeping it :)\n",
        "  regex = '(?:(?:January?|February?|March?|April?|May?|June?|July?|August?|September?|October?|November?|December?) (?:[1-9]?|[1-2][0-9]?|30?|31?),? \\d{4})'\n",
        "  \n",
        "  new_sentences = []\n",
        "  dates = []\n",
        "\n",
        "  for sentence in sentences:\n",
        "    matches = re.findall(regex, sentence)\n",
        "    # Skip sentences without a date\n",
        "    if matches:\n",
        "      \n",
        "      # If multiple matches, make multiple rows\n",
        "      for match in matches:\n",
        "        new_sentences.append(sentence)\n",
        "        dates.append(match)\n",
        "\n",
        "  return pd.DataFrame({'Date': dates,\n",
        "                       'Sentence': new_sentences})\n",
        "\n",
        "# Apply the function to the tokenized text:\n",
        "df_dates_katherine = extract_date_expressions(sentence_tokenize_text(text_katherine)) \n",
        "pd.set_option('display.max_rows', df_dates_katherine.shape[0]+1)\n",
        "#print(df_dates_katherine) # use this for testing"
      ],
      "execution_count": 46,
      "outputs": []
    },
    {
      "cell_type": "markdown",
      "metadata": {
        "id": "QQAoFxzQBAJi"
      },
      "source": [
        "#### Task 4: Implement the function *dates_to_iso8601* so that it converts a date expression string to the ISO 8601 date standard.\n",
        "Then, add the ISO 8601 converted dates as a column (\"ISO\") to our dataframe. \n",
        "\n",
        "You can find more info and examples on https://www.iso.org/iso-8601-date-and-time-format.html. \n",
        "\n",
        "*Hint: For converting strings into ISO-compliant dates, check out Python’s inbuilt datetime module. With a quick Google search, you’ll find functions in there that can make this task a lot easier.*"
      ]
    },
    {
      "cell_type": "code",
      "metadata": {
        "collapsed": true,
        "id": "lJ6vsatpBAJi"
      },
      "source": [
        "from datetime import datetime\n",
        "\n",
        "def date_expression_to_iso8601(date_string):\n",
        "  \"\"\"\n",
        "  :param date_string: A string containing a date expression\n",
        "  :return: A string containing the date in ISO 8601 format\n",
        "  \"\"\"\n",
        "  \n",
        "  # When multiple dates are mentioned in a sentence, separate them\n",
        "  if isinstance(date_string, list):\n",
        "    return [date_expression_to_iso8601(date) for date in date_string]\n",
        "  \n",
        "  # If no date is given, assume it's January 1st\n",
        "  if len(date_string) == 4:\n",
        "    date_string = 'January 1, ' + date_string\n",
        "  \n",
        "  # Strip time into ISO-8601 format\n",
        "  return datetime.strptime(date_string, '%B %d, %Y')\n",
        "\n",
        "# Now, add a column \"ISO\" to your DataFrame\n",
        "isos = []\n",
        "for date in df_dates_katherine['Date']:\n",
        "  isos.append(date_expression_to_iso8601(date))\n",
        "df_dates_katherine['ISO'] = isos\n",
        "#df_dates_katherine  # use this for testing"
      ],
      "execution_count": 59,
      "outputs": []
    },
    {
      "cell_type": "markdown",
      "metadata": {
        "id": "0Jr-ekx2BAJj"
      },
      "source": [
        "#### Task 5: Combine the previous steps in the function *get_sorted_df_from_file_name* so that it runs the whole date extraction pipeline and returns a DataFrame.\n",
        "**Make sure to order the DataFrame rows chronologically according to the ISO dates!** \n",
        "\n",
        "Consider the following example text: \n",
        "\n",
        "> This is an example text about interesting upcoming dates. Halloween takes place on 31 October 2021. Our Christmas holiday is from Friday 24 December 2021 - Friday 7 January 2022. We will celebrate Sinterklaas on 5 December 2021.\n",
        "\n",
        "Here's an illustration of what the example text's DataFrame should look like: \n",
        "\n",
        "|ISO |Date | Sentence |\n",
        "|----:|----:|:----|\n",
        "|2021-10-31 |31 October 2021| Halloween takes place on 31 October 2021.|\n",
        "|2021-12-05 |5 December 2021| We will celebrate Sinterklaas on 5 December 2021.|\n",
        "|2021-12-24 |24 December 2021| Our Christmas holiday is from Friday 24 December 2021 - Friday 7 January 2022.|\n",
        "|2022-01-07 |7 January 2022| Our Christmas holiday is from Friday 24 December 2021 - Friday 7 January 2022.|"
      ]
    },
    {
      "cell_type": "code",
      "metadata": {
        "collapsed": true,
        "id": "LknbnUtxBAJj",
        "colab": {
          "base_uri": "https://localhost:8080/",
          "height": 235
        },
        "outputId": "34af762d-11f3-44ab-acab-61324bb4c8a3"
      },
      "source": [
        "def get_sorted_df_from_file_name(file_name):\n",
        "  \"\"\"\n",
        "  :param file_name: A string containing the full path to a file\n",
        "  :return: A pandas DataFrame with the columns \"Date\", \"Sentence\" and \"ISO\" \n",
        "          (see above), where rows are sorted according to \"ISO\"\n",
        "  \"\"\"\n",
        "  text = read_file(file_name)\n",
        "  df = extract_date_expressions(sentence_tokenize_text(text))\n",
        "  \n",
        "  isos = []\n",
        "  for date in df['Date']:\n",
        "    isos.append(date_expression_to_iso8601(date))\n",
        "  df['ISO'] = isos\n",
        "  df = df.set_index('ISO')\n",
        "  return df.sort_values('ISO')\n",
        "\n",
        "get_sorted_df_from_file_name(os.path.join(working_dir, 'KatherineJohnson.txt'))"
      ],
      "execution_count": 60,
      "outputs": [
        {
          "output_type": "execute_result",
          "data": {
            "text/html": [
              "<div>\n",
              "<style scoped>\n",
              "    .dataframe tbody tr th:only-of-type {\n",
              "        vertical-align: middle;\n",
              "    }\n",
              "\n",
              "    .dataframe tbody tr th {\n",
              "        vertical-align: top;\n",
              "    }\n",
              "\n",
              "    .dataframe thead th {\n",
              "        text-align: right;\n",
              "    }\n",
              "</style>\n",
              "<table border=\"1\" class=\"dataframe\">\n",
              "  <thead>\n",
              "    <tr style=\"text-align: right;\">\n",
              "      <th></th>\n",
              "      <th>Date</th>\n",
              "      <th>Sentence</th>\n",
              "    </tr>\n",
              "    <tr>\n",
              "      <th>ISO</th>\n",
              "      <th></th>\n",
              "      <th></th>\n",
              "    </tr>\n",
              "  </thead>\n",
              "  <tbody>\n",
              "    <tr>\n",
              "      <th>1918-08-26</th>\n",
              "      <td>August 26, 1918</td>\n",
              "      <td>Creola Katherine Johnson (née Coleman; August ...</td>\n",
              "    </tr>\n",
              "    <tr>\n",
              "      <th>1918-08-26</th>\n",
              "      <td>August 26, 1918</td>\n",
              "      <td>Katherine Johnson was born as Creola Katherine...</td>\n",
              "    </tr>\n",
              "    <tr>\n",
              "      <th>1961-05-05</th>\n",
              "      <td>May 5, 1961</td>\n",
              "      <td>She calculated the trajectory for the May 5, 1...</td>\n",
              "    </tr>\n",
              "    <tr>\n",
              "      <th>1961-05-05</th>\n",
              "      <td>May 5, 1961</td>\n",
              "      <td>On May 5, 1961, her work helped to ensure that...</td>\n",
              "    </tr>\n",
              "    <tr>\n",
              "      <th>2020-02-24</th>\n",
              "      <td>February 24, 2020</td>\n",
              "      <td>Creola Katherine Johnson (née Coleman; August ...</td>\n",
              "    </tr>\n",
              "  </tbody>\n",
              "</table>\n",
              "</div>"
            ],
            "text/plain": [
              "                         Date                                           Sentence\n",
              "ISO                                                                             \n",
              "1918-08-26    August 26, 1918  Creola Katherine Johnson (née Coleman; August ...\n",
              "1918-08-26    August 26, 1918  Katherine Johnson was born as Creola Katherine...\n",
              "1961-05-05        May 5, 1961  She calculated the trajectory for the May 5, 1...\n",
              "1961-05-05        May 5, 1961  On May 5, 1961, her work helped to ensure that...\n",
              "2020-02-24  February 24, 2020  Creola Katherine Johnson (née Coleman; August ..."
            ]
          },
          "metadata": {},
          "execution_count": 60
        }
      ]
    },
    {
      "cell_type": "markdown",
      "metadata": {
        "id": "lNno2UGrBAJj"
      },
      "source": [
        "### Manual labeling: KatherineJohnson.txt\n",
        "To evaluate your date expression pipeline, you first need to have gold labels. In this assignment, we use a specified labeling format. This also makes it easier for the Teaching Team to follow your calculations below. Let's familiarize ourselves with this format. \n",
        "\n",
        "Look at our example text again:\n",
        "\n",
        "> This is an example text about interesting upcoming dates. Halloween takes place on 31 October 2021. Our Christmas holiday is from Friday 24 December 2021 - Friday 7 January 2022. We will celebrate Sinterklaas on 5 December 2021.\n",
        "\n",
        "\n",
        "This is how we store the gold labels for this example text:\n",
        "~~~python\n",
        "example_manual_labels = [\n",
        "  {\"Sentence\": \"This is an example text about interesting upcoming dates.\", \n",
        "      \"Dates\": []},\n",
        "  {\"Sentence\": \"The next Halloween takes place on 31 October 2021.\", \n",
        "      \"Dates\": [\"2021-10-31\"]},\n",
        "  {\"Sentence\": \"Our Christmas holiday is from Friday 24 December 2021-Friday 7 January 2022.\", \n",
        "      \"Dates\": [\"2021-12-24\", \"2022-01-07\"]},\n",
        "  {\"Sentence\": \"We will celebrate Sinterklaas on 5 December 2021.\", \n",
        "      \"Dates\": [\"2021-12-05\"]}\n",
        "  ]\n",
        "~~~\n",
        "\n",
        "As you can see, we use a list of dictionaries. We have one dictionary for each sentence. This dictionary has two keys:\n",
        "- Key \"Sentence\": The corresponding value is the sentence (i.e. a string).\n",
        "- Key \"Dates\": The corresponding value is a list of all date expressions (strings; correctly converted to the ISO 8601 date standard) that appear in that sentence. If a sentence does not contain any date expressions, this list is empty. \n",
        "\n",
        "#### Task 6: Manually label all sentences from KatherineJohnson.txt.   \n",
        "Go through the text in KatherineJohnson.txt and fill the list *katherine_manual_labels* following the format described above. "
      ]
    },
    {
      "cell_type": "code",
      "metadata": {
        "collapsed": true,
        "id": "qjSQaAyoBAJj"
      },
      "source": [
        "katherine_manual_labels = [\n",
        "  {\"Sentence\": \"Katherine Johnson\",\n",
        "   \"Dates\": []},\n",
        "  {\"Sentence\": \"From Wikipedia, the free encyclopedia\",\n",
        "   \"Dates\": []},\n",
        "  {\"Sentence\": \"Early life\",\n",
        "   \"Dates\": []},\n",
        "  {\"Sentence\": \"Katherine Johnson was born as Creola Katherine Coleman on August 26, 1918, in White Sulphur Springs, West Virginia, to Joylette Roberta (née Lowe) and Joshua McKinley Coleman.[5][6][7][8]\",\n",
        "   \"Dates\": [\"1918-08-26\"]},\n",
        "  {\"Sentence\": \"She was the youngest of four children.[9]\",\n",
        "   \"Dates\": []},\n",
        "  {\"Sentence\": \"Her mother was a teacher and her father was a lumberman, farmer, and handyman, and worked at the Greenbrier Hotel.[6][10]\",\n",
        "   \"Dates\": []},\n",
        "  {\"Sentence\": \"Johnson showed strong mathematical abilities from an early age.\",\n",
        "   \"Dates\": []},\n",
        "  {\"Sentence\": \"Because Greenbrier County did not offer public schooling for African-American students past the eighth grade, the Colemans arranged for their children to attend high school in Institute, West Virginia. \",\n",
        "   \"Dates\": []},\n",
        "  {\"Sentence\": \"This school was on the campus of West Virginia State College (WVSC).[11] Johnson was enrolled when she was ten years old.[12]\",\n",
        "   \"Dates\": []},\n",
        "  {\"Sentence\": \"The family split their time between Institute during the school year and White Sulphur Springs in the summer.[13]\",\n",
        "   \"Dates\": []},\n",
        "  {\"Sentence\": \"External video\",\n",
        "   \"Dates\": []},\n",
        "  {\"Sentence\": \"video icon Interview with West Virginia State University President Anthony Jenkins on Johnson's studies and career, October 21, 2019, C-SPAN\",\n",
        "   \"Dates\": [\"2019-10-21\"]},\n",
        "  {\"Sentence\": \"After graduating from high school at 14, Johnson enrolled at West Virginia State, a historically black college.[14]\",\n",
        "   \"Dates\": []},\n",
        "  {\"Sentence\": \" As a student, she took every math course offered by the college.\",\n",
        "   \"Dates\": []},\n",
        "  {\"Sentence\": \" Multiple professors mentored her, including the chemist and mathematician Angie Turner King, who had mentored Coleman throughout high school, and W. W. Schieffelin Claytor, the third African-American to receive a Ph.D. in mathematics. \",\n",
        "   \"Dates\": []},\n",
        "  {\"Sentence\": \"Claytor added new mathematics courses just for Johnson.[15]\",\n",
        "   \"Dates\": []},\n",
        "  {\"Sentence\": \" She graduated summa cum laude in 1937, with degrees in mathematics and French, at age 18.[16][12][17] \",\n",
        "   \"Dates\": []},\n",
        "  {\"Sentence\": \"Johnson was a member of Alpha Kappa Alpha.[18] \",\n",
        "   \"Dates\": []},\n",
        "  {\"Sentence\": \"She took on a teaching job at a black public school in Marion, Virginia.[14][19]\",\n",
        "   \"Dates\": []},\n",
        "  {\"Sentence\": \"In 1939, after marrying her first husband, James Goble, she left her teaching job and enrolled in a graduate math program. \",\n",
        "   \"Dates\": []},\n",
        "  {\"Sentence\": \"She quit one year later after becoming pregnant and chose to focus on her family life.[14]\",\n",
        "   \"Dates\": []},\n",
        "  {\"Sentence\": \" She was the first African-American woman to attend graduate school at West Virginia University in Morgantown, West Virginia.\",\n",
        "   \"Dates\": []},\n",
        "  {\"Sentence\": \" Through WVSC's president, Dr. John W. Davis, she became one of three African-American students,[14] and the only woman, selected to integrate the graduate school after the 1938 United States Supreme Court ruling Missouri ex rel. Gaines v. Canada. \",\n",
        "   \"Dates\": []},\n",
        "  {\"Sentence\": \"The court ruled that states that provided public higher education to white students also had to provide it to black students, to be satisfied either by establishing black colleges and universities or by admitting black students to previously white-only universities.[10][20]\",\n",
        "   \"Dates\": []},\n",
        "  {\"Sentence\": \"Career\",\n",
        "   \"Dates\": []},\n",
        "  {\"Sentence\": \"Photograph of Johnson sitting at a desk\",\n",
        "   \"Dates\": []},\n",
        "  {\"Sentence\": \"Johnson working as a \\\"computer\\\" at NASA in 1966\",\n",
        "   \"Dates\": []},\n",
        "  {\"Sentence\": \"Johnson decided on a career as a research mathematician, although this was a difficult field for African Americans and women to enter. \",\n",
        "   \"Dates\": []},\n",
        "  {\"Sentence\": \"The first jobs she found were in teaching.\",\n",
        "   \"Dates\": []},\n",
        "  {\"Sentence\": \" At a family gathering in 1952, a relative mentioned that the National Advisory Committee for Aeronautics (NACA) was hiring mathematicians.[14]\",\n",
        "   \"Dates\": []},\n",
        "  {\"Sentence\": \" At the Langley Memorial Aeronautical Laboratory, based in Hampton, Virginia, near Langley Field, NACA hired African-American mathematicians as well as whites for their Guidance and Navigation Department. \",\n",
        "   \"Dates\": []},\n",
        "  {\"Sentence\": \"Johnson accepted a job offer from the agency in June 1953.[6]\",\n",
        "   \"Dates\": []},\n",
        "  {\"Sentence\": \"According to an oral history archived by the National Visionary Leadership Project:\",\n",
        "   \"Dates\": []},\n",
        "  {\"Sentence\": \"At first she [Johnson] worked in a pool of women performing math calculations.\",\n",
        "   \"Dates\": []},\n",
        "  {\"Sentence\": \" Katherine has referred to the women in the pool as virtual \\\"computers who wore skirts\\\".\",\n",
        "   \"Dates\": []},\n",
        "  {\"Sentence\": \" Their main job was to read the data from the black boxes of planes and carry out other precise mathematical tasks. \",\n",
        "   \"Dates\": []},\n",
        "  {\"Sentence\": \"Then one day, Katherine (and a colleague) were temporarily assigned to help the all-male flight research team. \",\n",
        "   \"Dates\": []},\n",
        "  {\"Sentence\": \"Katherine's knowledge of analytic geometry helped make quick allies of male bosses and colleagues to the extent that, \\\"they forgot to return me to the pool\\\".\",\n",
        "   \"Dates\": []},\n",
        "  {\"Sentence\": \" While the racial and gender barriers were always there, Katherine says she ignored them.\",\n",
        "   \"Dates\": []},\n",
        "  {\"Sentence\": \" Katherine was assertive, asking to be included in editorial meetings (where no women had gone before).\",\n",
        "   \"Dates\": []},\n",
        "  {\"Sentence\": \" She simply told people she had done the work and that she belonged.[6]\",\n",
        "   \"Dates\": []},\n",
        "  {\"Sentence\": \"From 1953 to 1958, Johnson worked as a computer,[21] analyzing topics such as gust alleviation for aircraft.\",\n",
        "   \"Dates\": []},\n",
        "  {\"Sentence\": \" Originally assigned to the West Area Computers section supervised by mathematician Dorothy Vaughan, Johnson was reassigned to the Guidance and Control Division of Langley's Flight Research Division. \",\n",
        "   \"Dates\": []},\n",
        "  {\"Sentence\": \"It was staffed by white male engineers.[22]\",\n",
        "   \"Dates\": []},\n",
        "  {\"Sentence\": \" In keeping with state racial segregation laws, and federal workplace segregation introduced under President Woodrow Wilson in the early 20th century, Johnson and the other African-American women in the computing pool were required to work, eat, and use restrooms that were separate from those of their white peers.\",\n",
        "   \"Dates\": []},\n",
        "  {\"Sentence\": \"Their office was labeled as \\\"Colored Computers\\\". In an interview with WHRO-TV, Johnson stated that she \\\"didn't feel the segregation at NASA, because everybody there was doing research.\",\n",
        "   \"Dates\": []},\n",
        "  {\"Sentence\": \" You had a mission and you worked on it, and it was important to you to do your job ... and play bridge at lunch.\\\" She added: \\\"I didn't feel any segregation.\",\n",
        "   \"Dates\": []},\n",
        "  {\"Sentence\": \" I knew it was there, but I didn't feel it.\\\"[23]\",\n",
        "   \"Dates\": []},\n",
        "  {\"Sentence\": \"NACA disbanded the colored computing pool in 1958 when the agency was superseded by NASA, which adopted digital computers.\",\n",
        "   \"Dates\": []},\n",
        "  {\"Sentence\": \" Although the installation was desegregated,[22] forms of discrimination were still pervasive.\",\n",
        "   \"Dates\": []},\n",
        "  {\"Sentence\": \" Johnson recalled that era:\",\n",
        "   \"Dates\": []},\n",
        "  {\"Sentence\": \"We needed to be assertive as women in those days – assertive and aggressive – and the degree to which we had to be that way depended on where you were.\",\n",
        "   \"Dates\": []},\n",
        "  {\"Sentence\": \" I had to be.\",\n",
        "   \"Dates\": []},\n",
        "  {\"Sentence\": \" In the early days of NASA women were not allowed to put their names on the reports – no woman in my division had had her name on a report.\",\n",
        "   \"Dates\": []},\n",
        "  {\"Sentence\": \" I was working with Ted Skopinski and he wanted to leave and go to Houston ... but Henry Pearson, our supervisor – he was not a fan of women – kept pushing him to finish the report we were working on.\",\n",
        "   \"Dates\": []},\n",
        "  {\"Sentence\": \"Finally, Ted told him, \\\"Katherine should finish the report, she's done most of the work anyway.\\\"\",\n",
        "   \"Dates\": []},\n",
        "  {\"Sentence\": \" So Ted left Pearson with no choice; I finished the report and my name went on it, and that was the first time a woman in our division had her name on something.[24]\",\n",
        "   \"Dates\": []},\n",
        "  {\"Sentence\": \"From 1958 until her retirement in 1986, Johnson worked as an aerospace technologist, moving during her career to the Spacecraft Controls Branch.\",\n",
        "   \"Dates\": []},\n",
        "  {\"Sentence\": \" She calculated the trajectory for the May 5, 1961 space flight of Alan Shepard, the first American in space.[1]\",\n",
        "   \"Dates\": [\"1961-05-05\"]},\n",
        "  {\"Sentence\": \" She also calculated the launch window for his 1961 Mercury mission.[25]\",\n",
        "   \"Dates\": []},\n",
        "  {\"Sentence\": \" She plotted backup navigation charts for astronauts in case of electronic failures.[6]\",\n",
        "   \"Dates\": []},\n",
        "  {\"Sentence\": \" When NASA used electronic computers for the first time to calculate John Glenn's orbit around Earth, officials called on Johnson to verify the computer's numbers; Glenn had asked for her specifically and had refused to fly unless Johnson verified the calculations.[1][26][27]\",\n",
        "   \"Dates\": []},\n",
        "  {\"Sentence\": \"Biography.com states these were \\\"far more difficult calculations, to account for the gravitational pulls of celestial bodies\\\".[28]\",\n",
        "   \"Dates\": []},\n",
        "  {\"Sentence\": \" Author Margot Lee Shetterly stated, \\\"So the astronaut who became a hero, looked to this black woman in the still-segregated South at the time as one of the key parts of making sure his mission would be a success.\\\" \",\n",
        "   \"Dates\": []},\n",
        "  {\"Sentence\": \" She added that, in a time where computing was \\\"women's work\\\" and engineering was left to men, \\\"it really does have to do with us over the course of time sort of not valuing that work that was done by women, however necessary, as much as we might. \",\n",
        "   \"Dates\": []},\n",
        "  {\"Sentence\": \"And it has taken history to get a perspective on that.\\\"[29]\",\n",
        "   \"Dates\": []},\n",
        "  {\"Sentence\": \"Johnson later worked directly with digital computers. \",\n",
        "   \"Dates\": []},\n",
        "  {\"Sentence\": \"Her ability and reputation for accuracy helped to establish confidence in the new technology.[28]\",\n",
        "   \"Dates\": []},\n",
        "  {\"Sentence\": \" In 1961, her work helped to ensure that Alan Shepard's Freedom 7 Mercury capsule would be found quickly after landing, using the accurate trajectory that had been established.[30]\",\n",
        "   \"Dates\": []},\n",
        "  {\"Sentence\": \"She also helped to calculate the trajectory for the 1969 Apollo 11 flight to the Moon.[1][28]\",\n",
        "   \"Dates\": []},\n",
        "  {\"Sentence\": \" During the Moon landing, Johnson was at a meeting in the Pocono Mountains.\",\n",
        "   \"Dates\": []},\n",
        "  {\"Sentence\": \" She and a few others crowded around a small television screen watching the first steps on the Moon.[1]\",\n",
        "   \"Dates\": []},\n",
        "  {\"Sentence\": \" In 1970, Johnson worked on the Apollo 13 Moon mission.\",\n",
        "   \"Dates\": []},\n",
        "  {\"Sentence\": \"When the mission was aborted, her work on backup procedures and charts helped set a safe path for the crew's return to Earth,[28] creating a one-star observation system that would allow astronauts to determine their location with accuracy. \",\n",
        "   \"Dates\": []},\n",
        "  {\"Sentence\": \" In a 2010 interview, Johnson recalled, \\\"Everybody was concerned about them getting there.\",\n",
        "   \"Dates\": []},\n",
        "  {\"Sentence\": \" We were concerned about them getting back.\\\"[30]\",\n",
        "   \"Dates\": []},\n",
        "  {\"Sentence\": \" Later in her career, Johnson worked on the Space Shuttle program, the Earth Resources Satellite,[1][28] and on plans for a mission to Mars.[31]\",\n",
        "   \"Dates\": []},\n",
        "  {\"Sentence\": \"Johnson spent her later years encouraging students to enter the fields of science, technology, engineering, and mathematics (STEM).[32]\",\n",
        "   \"Dates\": []},\n",
        "  {\"Sentence\": \"Text from https://en.wikipedia.org/wiki/Katherine_Johnson, adapted by the teaching team\",\n",
        "   \"Dates\": []}  \n",
        "]"
      ],
      "execution_count": 61,
      "outputs": []
    },
    {
      "cell_type": "markdown",
      "metadata": {
        "id": "uSS73IigBAJk"
      },
      "source": [
        "Now that we have labels for KatherineJohnson.txt, we can plot a confusion matrix to get an impression of your extraction procedure's performance:"
      ]
    },
    {
      "cell_type": "code",
      "metadata": {
        "id": "bFu-hHSm1Eor",
        "colab": {
          "base_uri": "https://localhost:8080/",
          "height": 453
        },
        "outputId": "9fd2352e-371e-411a-e25e-b55320fcec41"
      },
      "source": [
        "from utils import plot_confusion_matrix\n",
        "\n",
        "plot_confusion_matrix(manual_labels = katherine_manual_labels, \n",
        "                      sorted_date_df =get_sorted_df_from_file_name(os.path.join(working_dir, 'KatherineJohnson.txt')),\n",
        "                      normalize    = False,\n",
        "                      title_names = ['Positive','Negative'])"
      ],
      "execution_count": 62,
      "outputs": [
        {
          "output_type": "display_data",
          "data": {
            "image/png": "[encoded data removed]",
            "text/plain": [
              "<Figure size 576x432 with 1 Axes>"
            ]
          },
          "metadata": {
            "needs_background": "light"
          }
        }
      ]
    },
    {
      "cell_type": "markdown",
      "metadata": {
        "id": "BccP6ZMlBAJk"
      },
      "source": [
        "#### Task 7: Manually calculate the precision of your date expression procedure on KatherineJohnson.txt.\n",
        "Write your calculation into the cell below. \n",
        "\n",
        "Hint: You can use $\\LaTeX$ here. \n",
        "- To display a formula inline, surround it by the '\\$' sign. \n",
        "    - For example, '\\$ 4=2^2 \\$' will be displayed like this: $4=2^2$\n",
        "- To display a formula in a block, surround it by '\\$\\$'. \n",
        "    - For example, '\\$\\$ 16=4^2 \\$\\$' will be displayed like this: $$16=4^2$$"
      ]
    },
    {
      "cell_type": "markdown",
      "metadata": {
        "id": "7qKbw4XwBAJk"
      },
      "source": [
        "For the precision we divide the number of true positives by the total number of \n",
        "positive predictions (TP + FP)\n",
        "$\\frac{2}{2 + 1} = \\frac{2}{3}$"
      ]
    },
    {
      "cell_type": "markdown",
      "metadata": {
        "id": "VCYrbW-xBAJk"
      },
      "source": [
        "**Now, repeat the following steps until you are satisfied with the performance:** \n",
        "1. Run the date expression procedure on KatherineJohnson.txt. \n",
        "2. Make adaptations to your code if necessary. \n",
        "3. Go through the output manually and calculate precision. **Make sure the cell above contains the latest calculation.** \n",
        "\n",
        "Once you are satisfied with your performance, proceed to the next part of this assignment. "
      ]
    },
    {
      "cell_type": "markdown",
      "metadata": {
        "id": "UMs1nDlJBAJk"
      },
      "source": [
        "### Applying the extraction procedure to the unseen MaryJackson.txt\n",
        "Next, we will test your date extraction procedure and see how it performs on the unseen file MaryJackson.txt. First, let's have a look at the text inside this file: "
      ]
    },
    {
      "cell_type": "code",
      "metadata": {
        "id": "sadqgWXRBAJk",
        "colab": {
          "base_uri": "https://localhost:8080/"
        },
        "outputId": "7ee9711d-58a7-417d-ab04-586b9954c9fb"
      },
      "source": [
        "text_mary = read_file(os.path.join(working_dir, 'MaryJackson.txt'))\n",
        "print(text_mary)"
      ],
      "execution_count": 63,
      "outputs": [
        {
          "output_type": "stream",
          "name": "stdout",
          "text": [
            "Mary Jackson (engineer)\n",
            "From Wikipedia, the free encyclopedia\n",
            "\n",
            "Mary Jackson (née Winston;[1] April 9, 1921 – February 11, 2005) was an American mathematician and aerospace engineer at the National Advisory Committee for Aeronautics (NACA), which in 1958 was succeeded by the National Aeronautics and Space Administration (NASA). She worked at Langley Research Center in Hampton, Virginia, for most of her career. She started as a computer at the segregated West Area Computing division in 1951. She took advanced engineering classes and, in 1958, became NASA's first black female engineer.\n",
            "\n",
            "After 34 years at NASA, Jackson had earned the most senior engineering title available. She realized she could not earn further promotions without becoming a supervisor. She accepted a demotion to become a manager of both the Federal Women's Program, in the NASA Office of Equal Opportunity Programs and of the Affirmative Action Program. In this role, she worked to influence the hiring and promotion of women in NASA's science, engineering, and mathematics careers.\n",
            "\n",
            "Jackson's story features in the 2016 non-fiction book Hidden Figures: The American Dream and the Untold Story of the Black Women Who Helped Win the Space Race. She is one of the three protagonists in Hidden Figures, the film adaptation released the same year.\n",
            "\n",
            "In 2019, Jackson was posthumously awarded the Congressional Gold Medal.[2] In 2021, the Washington, D.C. headquarters of NASA was renamed the Mary W. Jackson NASA Headquarters. NASA held a virtual ceremony for the naming.[3]\n",
            "\n",
            "Personal life\n",
            "Mary Winston was born on April 9, 1921, to Ella Winston (née Scott) and Frank Winston.[4] She grew up in Hampton, Virginia, where she graduated from the all-black George P. Phenix Training School with highest honors.[5]\n",
            "\n",
            "Mary Jackson earned bachelor's degrees in mathematics and physical science from Hampton University in 1942.[6][7] She was a member of the Alpha Kappa Alpha.[6]\n",
            "\n",
            "Jackson served for more than 30 years as a Girl Scout leader.[5] She was noted in the 1970s for helping African American children in her community create a miniature wind tunnel for testing airplanes.[7][8][5]\n",
            "\n",
            "Jackson was married on November 18, 1944 to Levi Jackson, Sr., a sailor in the U.S. Navy,[7][9] and had two children, Levi Jackson, Jr. and Carolyn Marie Lewis.[7] She died on February 11, 2005, age 83.[6]\n",
            "\n",
            "Career\n",
            "\n",
            "Jackson (first row, far right) with the 4'x4' Supersonic Pressure Tunnel staff in 1956[10]\n",
            "Black and white photograph of Mary Jackson holding a model in a wind tunnel\n",
            "Jackson holding a wind tunnel model in 1977\n",
            "Black and white photograph of Mary Jackson standing in front of large instruments, holding a clipboard and pencil\n",
            "Jackson working at the Langley Research Center in 1977\n",
            "Mary Jackson sitting, adjusting a control on an instrument\n",
            "Jackson working at a control panel in 1980\n",
            "After graduation, Mary Jackson taught mathematics for a year at an African-American school in Calvert County, Maryland.[5] At that time, public schools were still segregated across the South. She also began tutoring high school and college students, which she continued to do throughout her life.[11]\n",
            "\n",
            "By 1943, she had returned to Hampton, where she became a bookkeeper at the National Catholic Community Center there. She worked as a receptionist and clerk at the Hampton Institute's Health Department. She was pregnant during this time and eventually returned home for the birth of her son. In 1951, she became a clerk at the Office of the Chief Army Field Forces at Fort Monroe.[5][11]\n",
            "\n",
            "In 1951, Jackson was recruited by the National Advisory Committee for Aeronautics (NACA), which in 1958 was succeeded by the National Aeronautics and Space Administration (NASA).[7][8][12] She started as a research mathematician, or computer, at the Langley Research Center in her hometown of Hampton, Virginia. She worked under Dorothy Vaughan in the segregated West Area Computing Section.[5]\n",
            "\n",
            "In 1953, she accepted an offer to work for engineer Kazimierz Czarnecki in the Supersonic Pressure Tunnel. The 4 by 4 foot (1.2 by 1.2 m), 60,000 horsepower (45,000 kW) wind tunnel was used to study forces on a model by generating winds at almost twice the speed of sound.[5] Czarnecki encouraged Jackson to undergo training so that she could be promoted to an engineer. She needed to take graduate-level courses in mathematics and physics to qualify for the job. They were offered in a night program by the University of Virginia, held at the all-white Hampton High School. Jackson petitioned the City of Hampton to allow her to attend the classes. After completing the courses, she was promoted to aerospace engineer in 1958, and became NASA's first black female engineer.[13][8][5] In the early 60's she analyzed data from wind tunnel experiments and real-world aircraft flight experiments at the Theoretical Aerodynamics Branch of the Subsonic-Transonic Aerodynamics Division at Langley.[7] Her goal was to understand air flow, including thrust and drag forces, in order to improve United States planes.[7]\n",
            "\n",
            "Jackson worked as an engineer in several NASA divisions: the Compressibility Research Division, Full-Scale Research Division, High-Speed Aerodynamics Division, and the Subsonic-Transonic Aerodynamics Division.[11] She ultimately authored or co-authored 12 technical papers for NACA and NASA.[11][14][15][16] She worked to help women and other minorities to advance their careers, including advising them how to study in order to qualify for promotions.[17]\n",
            "\n",
            "By 1979, Jackson had achieved the most senior title within the engineering department. She decided to take a demotion in order to serve as an administrator in the Equal Opportunity Specialist field. After undergoing training at NASA Headquarters, she returned to Langley. She worked to make changes and highlight women and other minorities who were accomplished in the field. She served as both the Federal Women's Program Manager in the Office of Equal Opportunity Programs and as the Affirmative Action Program Manager, and she worked to influence the career paths of women in science, engineering, and mathematics positions at NASA.[5][17] She continued to work at NASA until her retirement in 1985.[6]\n",
            "\n",
            "Legacy\n",
            "The 2016 film Hidden Figures recounts the NASA careers of Jackson, Katherine Johnson, and Dorothy Vaughan, specifically their work on Project Mercury during the Space Race. The film is based on the book of the same name by Margot Lee Shetterly. Jackson is portrayed in the film by Janelle Monáe.[18]\n",
            "\n",
            "In 2018, the Salt Lake City School Board voted that Jackson Elementary School in Salt Lake City, Utah, would from then on be officially named after Mary Jackson rather than (as it used to be) after President Andrew Jackson.[19]\n",
            "\n",
            "NASA's headquarters building in Washington, D.C. was renamed the Mary W. Jackson NASA Headquarters on February 26, 2021.[20][3][21]\n",
            "\n",
            "\n",
            "Text from https://en.wikipedia.org/wiki/Mary_Jackson_(engineer), adapted by the teaching team\n",
            "\n"
          ]
        }
      ]
    },
    {
      "cell_type": "markdown",
      "metadata": {
        "id": "_2nQw4xmBAJl"
      },
      "source": [
        "#### Task 8: Manually label all sentences from mary.txt\n",
        "Now go through the text in mary.txt and fill the list *mary_manual_labels* just like you previously did for KatherineJohnson.txt: "
      ]
    },
    {
      "cell_type": "code",
      "metadata": {
        "colab": {
          "base_uri": "https://localhost:8080/"
        },
        "id": "MXF6vvwmJsCz",
        "outputId": "a41fe5c6-4abd-4165-afd6-0738acc2a352"
      },
      "source": [
        "{\"Sentence\": \"Finally, Ted told him, \\\"Katherine should finish the report, she's done most of the work anyway.\\\"\",\n",
        "   \"Dates\": []},# Generate sentences automatically:\n",
        "string = \"mary_manual_labels = [\\n\"  \n",
        "sentences = sentence_tokenize_text(text_mary)\n",
        "for sentence in sentences:\n",
        "  string += '<\\\"Sentence\\\": \\\"{}\\\",\\n  \\\"Dates\\\": []>,\\n  '.format(sentence.strip())\n",
        "print(string)\n",
        "  "
      ],
      "execution_count": 64,
      "outputs": [
        {
          "output_type": "stream",
          "name": "stdout",
          "text": [
            "mary_manual_labels = [\n",
            "<\"Sentence\": \"Mary Jackson (née Winston;[1] April 9, 1921 – February 11, 2005) was an American mathematician and aerospace engineer at the National Advisory Committee for Aeronautics (NACA), which in 1958 was succeeded by the National Aeronautics and Space Administration (NASA).\",\n",
            "  \"Dates\": []>,\n",
            "  <\"Sentence\": \"She worked at Langley Research Center in Hampton, Virginia, for most of her career.\",\n",
            "  \"Dates\": []>,\n",
            "  <\"Sentence\": \"She started as a computer at the segregated West Area Computing division in 1951.\",\n",
            "  \"Dates\": []>,\n",
            "  <\"Sentence\": \"She took advanced engineering classes and, in 1958, became NASA's first black female engineer.\",\n",
            "  \"Dates\": []>,\n",
            "  <\"Sentence\": \"After 34 years at NASA, Jackson had earned the most senior engineering title available.\",\n",
            "  \"Dates\": []>,\n",
            "  <\"Sentence\": \"She realized she could not earn further promotions without becoming a supervisor.\",\n",
            "  \"Dates\": []>,\n",
            "  <\"Sentence\": \"She accepted a demotion to become a manager of both the Federal Women's Program, in the NASA Office of Equal Opportunity Programs and of the Affirmative Action Program.\",\n",
            "  \"Dates\": []>,\n",
            "  <\"Sentence\": \"In this role, she worked to influence the hiring and promotion of women in NASA's science, engineering, and mathematics careers.\",\n",
            "  \"Dates\": []>,\n",
            "  <\"Sentence\": \"Jackson's story features in the 2016 non-fiction book Hidden Figures: The American Dream and the Untold Story of the Black Women Who Helped Win the Space Race.\",\n",
            "  \"Dates\": []>,\n",
            "  <\"Sentence\": \"She is one of the three protagonists in Hidden Figures, the film adaptation released the same year.\",\n",
            "  \"Dates\": []>,\n",
            "  <\"Sentence\": \"In 2019, Jackson was posthumously awarded the Congressional Gold Medal.[2]\",\n",
            "  \"Dates\": []>,\n",
            "  <\"Sentence\": \"In 2021, the Washington, D.\",\n",
            "  \"Dates\": []>,\n",
            "  <\"Sentence\": \"C.\",\n",
            "  \"Dates\": []>,\n",
            "  <\"Sentence\": \"NASA was renamed the Mary W.\",\n",
            "  \"Dates\": []>,\n",
            "  <\"Sentence\": \"Jackson NASA Headquarters.\",\n",
            "  \"Dates\": []>,\n",
            "  <\"Sentence\": \"NASA held a virtual ceremony for the naming.[3]\",\n",
            "  \"Dates\": []>,\n",
            "  <\"Sentence\": \"Mary Winston was born on April 9, 1921, to Ella Winston (née Scott) and Frank Winston.[4]\",\n",
            "  \"Dates\": []>,\n",
            "  <\"Sentence\": \"She grew up in Hampton, Virginia, where she graduated from the all-black George P.\",\n",
            "  \"Dates\": []>,\n",
            "  <\"Sentence\": \"Phenix Training School with highest honors.[5]\",\n",
            "  \"Dates\": []>,\n",
            "  <\"Sentence\": \"Mary Jackson earned bachelor's degrees in mathematics and physical science from Hampton University in 1942.[6][7]\",\n",
            "  \"Dates\": []>,\n",
            "  <\"Sentence\": \"She was a member of the Alpha Kappa Alpha.[6]\",\n",
            "  \"Dates\": []>,\n",
            "  <\"Sentence\": \"Jackson served for more than 30 years as a Girl Scout leader.[5]\",\n",
            "  \"Dates\": []>,\n",
            "  <\"Sentence\": \"She was noted in the 1970s for helping African American children in her community create a miniature wind tunnel for testing airplanes.[7][8][5]\",\n",
            "  \"Dates\": []>,\n",
            "  <\"Sentence\": \"Jackson was married on November 18, 1944 to Levi Jackson, Sr.,\",\n",
            "  \"Dates\": []>,\n",
            "  <\"Sentence\": \"U.\",\n",
            "  \"Dates\": []>,\n",
            "  <\"Sentence\": \"S.\",\n",
            "  \"Dates\": []>,\n",
            "  <\"Sentence\": \"Navy,[7][9] and had two children, Levi Jackson, Jr.\",\n",
            "  \"Dates\": []>,\n",
            "  <\"Sentence\": \"Carolyn Marie Lewis.[7]\",\n",
            "  \"Dates\": []>,\n",
            "  <\"Sentence\": \"She died on February 11, 2005, age 83.[6]\",\n",
            "  \"Dates\": []>,\n",
            "  <\"Sentence\": \"After graduation, Mary Jackson taught mathematics for a year at an African-American school in Calvert County, Maryland.[5]\",\n",
            "  \"Dates\": []>,\n",
            "  <\"Sentence\": \"At that time, public schools were still segregated across the South.\",\n",
            "  \"Dates\": []>,\n",
            "  <\"Sentence\": \"She also began tutoring high school and college students, which she continued to do throughout her life.[11]\",\n",
            "  \"Dates\": []>,\n",
            "  <\"Sentence\": \"By 1943, she had returned to Hampton, where she became a bookkeeper at the National Catholic Community Center there.\",\n",
            "  \"Dates\": []>,\n",
            "  <\"Sentence\": \"She worked as a receptionist and clerk at the Hampton Institute's Health Department.\",\n",
            "  \"Dates\": []>,\n",
            "  <\"Sentence\": \"She was pregnant during this time and eventually returned home for the birth of her son.\",\n",
            "  \"Dates\": []>,\n",
            "  <\"Sentence\": \"In 1951, she became a clerk at the Office of the Chief Army Field Forces at Fort Monroe.[5][11]\",\n",
            "  \"Dates\": []>,\n",
            "  <\"Sentence\": \"In 1951, Jackson was recruited by the National Advisory Committee for Aeronautics (NACA), which in 1958 was succeeded by the National Aeronautics and Space Administration (NASA).[7][8][12]\",\n",
            "  \"Dates\": []>,\n",
            "  <\"Sentence\": \"She started as a research mathematician, or computer, at the Langley Research Center in her hometown of Hampton, Virginia.\",\n",
            "  \"Dates\": []>,\n",
            "  <\"Sentence\": \"She worked under Dorothy Vaughan in the segregated West Area Computing Section.[5]\",\n",
            "  \"Dates\": []>,\n",
            "  <\"Sentence\": \"In 1953, she accepted an offer to work for engineer Kazimierz Czarnecki in the Supersonic Pressure Tunnel.\",\n",
            "  \"Dates\": []>,\n",
            "  <\"Sentence\": \"The 4 by 4 foot (1.2\",\n",
            "  \"Dates\": []>,\n",
            "  <\"Sentence\": \"W) wind tunnel was used to study forces on a model by generating winds at almost twice the speed of sound.[5]\",\n",
            "  \"Dates\": []>,\n",
            "  <\"Sentence\": \"Czarnecki encouraged Jackson to undergo training so that she could be promoted to an engineer.\",\n",
            "  \"Dates\": []>,\n",
            "  <\"Sentence\": \"She needed to take graduate-level courses in mathematics and physics to qualify for the job.\",\n",
            "  \"Dates\": []>,\n",
            "  <\"Sentence\": \"They were offered in a night program by the University of Virginia, held at the all-white Hampton High School.\",\n",
            "  \"Dates\": []>,\n",
            "  <\"Sentence\": \"Jackson petitioned the City of Hampton to allow her to attend the classes.\",\n",
            "  \"Dates\": []>,\n",
            "  <\"Sentence\": \"After completing the courses, she was promoted to aerospace engineer in 1958, and became NASA's first black female engineer.[13][8][5]\",\n",
            "  \"Dates\": []>,\n",
            "  <\"Sentence\": \"In the early 60's she analyzed data from wind tunnel experiments and real-world aircraft flight experiments at the Theoretical Aerodynamics Branch of the Subsonic-Transonic Aerodynamics Division at Langley.[7]\",\n",
            "  \"Dates\": []>,\n",
            "  <\"Sentence\": \"Her goal was to understand air flow, including thrust and drag forces, in order to improve United States planes.[7]\",\n",
            "  \"Dates\": []>,\n",
            "  <\"Sentence\": \"Jackson worked as an engineer in several NASA divisions: the Compressibility Research Division, Full-Scale Research Division, High-Speed Aerodynamics Division, and the Subsonic-Transonic Aerodynamics Division.[11]\",\n",
            "  \"Dates\": []>,\n",
            "  <\"Sentence\": \"She ultimately authored or co-authored 12 technical papers for NACA and NASA.[11][14][15][16]\",\n",
            "  \"Dates\": []>,\n",
            "  <\"Sentence\": \"She worked to help women and other minorities to advance their careers, including advising them how to study in order to qualify for promotions.[17]\",\n",
            "  \"Dates\": []>,\n",
            "  <\"Sentence\": \"By 1979, Jackson had achieved the most senior title within the engineering department.\",\n",
            "  \"Dates\": []>,\n",
            "  <\"Sentence\": \"She decided to take a demotion in order to serve as an administrator in the Equal Opportunity Specialist field.\",\n",
            "  \"Dates\": []>,\n",
            "  <\"Sentence\": \"After undergoing training at NASA Headquarters, she returned to Langley.\",\n",
            "  \"Dates\": []>,\n",
            "  <\"Sentence\": \"She worked to make changes and highlight women and other minorities who were accomplished in the field.\",\n",
            "  \"Dates\": []>,\n",
            "  <\"Sentence\": \"She served as both the Federal Women's Program Manager in the Office of Equal Opportunity Programs and as the Affirmative Action Program Manager, and she worked to influence the career paths of women in science, engineering, and mathematics positions at NASA.[5][17]\",\n",
            "  \"Dates\": []>,\n",
            "  <\"Sentence\": \"She continued to work at NASA until her retirement in 1985.[6]\",\n",
            "  \"Dates\": []>,\n",
            "  <\"Sentence\": \"The 2016 film Hidden Figures recounts the NASA careers of Jackson, Katherine Johnson, and Dorothy Vaughan, specifically their work on Project Mercury during the Space Race.\",\n",
            "  \"Dates\": []>,\n",
            "  <\"Sentence\": \"The film is based on the book of the same name by Margot Lee Shetterly.\",\n",
            "  \"Dates\": []>,\n",
            "  <\"Sentence\": \"Jackson is portrayed in the film by Janelle Monáe.[18]\",\n",
            "  \"Dates\": []>,\n",
            "  <\"Sentence\": \"In 2018, the Salt Lake City School Board voted that Jackson Elementary School in Salt Lake City, Utah, would from then on be officially named after Mary Jackson rather than (as it used to be) after President Andrew Jackson.[19]\",\n",
            "  \"Dates\": []>,\n",
            "  <\"Sentence\": \"NASA's headquarters building in Washington, D.\",\n",
            "  \"Dates\": []>,\n",
            "  <\"Sentence\": \"C.\",\n",
            "  \"Dates\": []>,\n",
            "  <\"Sentence\": \"Mary W.\",\n",
            "  \"Dates\": []>,\n",
            "  <\"Sentence\": \"Jackson NASA Headquarters on February 26, 2021.[20][3][21]\",\n",
            "  \"Dates\": []>,\n",
            "  <\"Sentence\": \"Text from https://en.\",\n",
            "  \"Dates\": []>,\n",
            "  \n"
          ]
        }
      ]
    },
    {
      "cell_type": "code",
      "metadata": {
        "collapsed": true,
        "id": "hPHu0xu2BAJn"
      },
      "source": [
        "mary_manual_labels = [\n",
        "{\"Sentence\": \"Mary Jackson (engineer)\",\n",
        "  \"Dates\": []},\n",
        "  {\"Sentence\": \"From Wikipedia, the free encyclopedia\",\n",
        "  \"Dates\": []},\n",
        "  {\"Sentence\": \"Mary Jackson (née Winston;[1] April 9, 1921 – February 11, 2005) was an American mathematician and aerospace engineer at the National Advisory Committee for Aeronautics (NACA), which in 1958 was succeeded by the National Aeronautics and Space Administration (NASA). \",\n",
        "  \"Dates\": [\"1921-04-09\", \"2005-02-11\"]},\n",
        "  {\"Sentence\": \"She worked at Langley Research Center in Hampton, Virginia, for most of her career. \",\n",
        "  \"Dates\": []},\n",
        "  {\"Sentence\": \"She started as a computer at the segregated West Area Computing division in 1951. \",\n",
        "  \"Dates\": []},\n",
        "  {\"Sentence\": \"She took advanced engineering classes and, in 1958, became NASA's first black female engineer.\",\n",
        "  \"Dates\": []},\n",
        "  {\"Sentence\": \"After 34 years at NASA, Jackson had earned the most senior engineering title available. \",\n",
        "  \"Dates\": []},\n",
        "  {\"Sentence\": \"She realized she could not earn further promotions without becoming a supervisor. \",\n",
        "  \"Dates\": []},\n",
        "  {\"Sentence\": \"She accepted a demotion to become a manager of both the Federal Women's Program, in the NASA Office of Equal Opportunity Programs and of the Affirmative Action Program. \",\n",
        "  \"Dates\": []},\n",
        "  {\"Sentence\": \"In this role, she worked to influence the hiring and promotion of women in NASA's science, engineering, and mathematics careers.\",\n",
        "  \"Dates\": []},\n",
        "  {\"Sentence\": \"Jackson's story features in the 2016 non-fiction book Hidden Figures: The American Dream and the Untold Story of the Black Women Who Helped Win the Space Race. \",\n",
        "  \"Dates\": []},\n",
        "  {\"Sentence\": \"She is one of the three protagonists in Hidden Figures, the film adaptation released the same year.\",\n",
        "  \"Dates\": []},\n",
        "  {\"Sentence\": \"In 2019, Jackson was posthumously awarded the Congressional Gold Medal.[2] \",\n",
        "  \"Dates\": []},\n",
        "  {\"Sentence\": \"In 2021, the Washington, D.\",\n",
        "  \"Dates\": []},\n",
        "  {\"Sentence\": \"C. \",\n",
        "  \"Dates\": []},\n",
        "  {\"Sentence\": \"NASA was renamed the Mary W. \",\n",
        "  \"Dates\": []},\n",
        "  {\"Sentence\": \"Jackson NASA Headquarters. \",\n",
        "  \"Dates\": []},\n",
        "  {\"Sentence\": \"NASA held a virtual ceremony for the naming.[3]\",\n",
        "  \"Dates\": []},\n",
        "  {\"Sentence\": \"Personal life\",\n",
        "  \"Dates\": []},\n",
        "  {\"Sentence\": \"Mary Winston was born on April 9, 1921, to Ella Winston (née Scott) and Frank Winston.[4] \",\n",
        "  \"Dates\": [\"1921-04-09\"]},\n",
        "  {\"Sentence\": \"She grew up in Hampton, Virginia, where she graduated from the all-black George P. \",\n",
        "  \"Dates\": []},\n",
        "  {\"Sentence\": \"Phenix Training School with highest honors.[5]\",\n",
        "  \"Dates\": []},\n",
        "  {\"Sentence\": \"Mary Jackson earned bachelor's degrees in mathematics and physical science from Hampton University in 1942.[6][7] \",\n",
        "  \"Dates\": []},\n",
        "  {\"Sentence\": \"She was a member of the Alpha Kappa Alpha.[6]\",\n",
        "  \"Dates\": []},\n",
        "  {\"Sentence\": \"Jackson served for more than 30 years as a Girl Scout leader.[5] \",\n",
        "  \"Dates\": []},\n",
        "  {\"Sentence\": \"She was noted in the 1970s for helping African American children in her community create a miniature wind tunnel for testing airplanes.[7][8][5]\",\n",
        "  \"Dates\": []},\n",
        "  {\"Sentence\": \"Jackson was married on November 18, 1944 to Levi Jackson, Sr., \",\n",
        "  \"Dates\": [\"1944-11-18\"]},\n",
        "  {\"Sentence\": \"U.\",\n",
        "  \"Dates\": []},\n",
        "  {\"Sentence\": \"S. \",\n",
        "  \"Dates\": []},\n",
        "  {\"Sentence\": \"Navy,[7][9] and had two children, Levi Jackson, Jr. \",\n",
        "  \"Dates\": []},\n",
        "  {\"Sentence\": \"Carolyn Marie Lewis.[7] \",\n",
        "  \"Dates\": []},\n",
        "  {\"Sentence\": \"She died on February 11, 2005, age 83.[6]\",\n",
        "  \"Dates\": [\"2005-2-11\"]},\n",
        "  {\"Sentence\": \"Career\",\n",
        "  \"Dates\": []},\n",
        "  {\"Sentence\": \"Jackson (first row, far right) with the 4'x4' Supersonic Pressure Tunnel staff in 1956[10]\",\n",
        "  \"Dates\": []},\n",
        "  {\"Sentence\": \"Black and white photograph of Mary Jackson holding a model in a wind tunnel\",\n",
        "  \"Dates\": []},\n",
        "  {\"Sentence\": \"Jackson holding a wind tunnel model in 1977\",\n",
        "  \"Dates\": []},\n",
        "  {\"Sentence\": \"Black and white photograph of Mary Jackson standing in front of large instruments, holding a clipboard and pencil\",\n",
        "  \"Dates\": []},\n",
        "  {\"Sentence\": \"Jackson working at the Langley Research Center in 1977\",\n",
        "  \"Dates\": []},\n",
        "  {\"Sentence\": \"Mary Jackson sitting, adjusting a control on an instrument\",\n",
        "  \"Dates\": []},\n",
        "  {\"Sentence\": \"Jackson working at a control panel in 1980\",\n",
        "  \"Dates\": []},\n",
        "  {\"Sentence\": \"After graduation, Mary Jackson taught mathematics for a year at an African-American school in Calvert County, Maryland.[5] \",\n",
        "  \"Dates\": []},\n",
        "  {\"Sentence\": \"At that time, public schools were still segregated across the South. \",\n",
        "  \"Dates\": []},\n",
        "  {\"Sentence\": \"She also began tutoring high school and college students, which she continued to do throughout her life.[11]\",\n",
        "  \"Dates\": []},\n",
        "  {\"Sentence\": \"By 1943, she had returned to Hampton, where she became a bookkeeper at the National Catholic Community Center there. \",\n",
        "  \"Dates\": []},\n",
        "  {\"Sentence\": \"She worked as a receptionist and clerk at the Hampton Institute's Health Department. \",\n",
        "  \"Dates\": []},\n",
        "  {\"Sentence\": \"She was pregnant during this time and eventually returned home for the birth of her son. \",\n",
        "  \"Dates\": []},\n",
        "  {\"Sentence\": \"In 1951, she became a clerk at the Office of the Chief Army Field Forces at Fort Monroe.[5][11]\",\n",
        "  \"Dates\": []},\n",
        "  {\"Sentence\": \"In 1951, Jackson was recruited by the National Advisory Committee for Aeronautics (NACA), which in 1958 was succeeded by the National Aeronautics and Space Administration (NASA).[7][8][12] \",\n",
        "  \"Dates\": []},\n",
        "  {\"Sentence\": \"She started as a research mathematician, or computer, at the Langley Research Center in her hometown of Hampton, Virginia. \",\n",
        "  \"Dates\": []},\n",
        "  {\"Sentence\": \"She worked under Dorothy Vaughan in the segregated West Area Computing Section.[5]\",\n",
        "  \"Dates\": []},\n",
        "  {\"Sentence\": \"In 1953, she accepted an offer to work for engineer Kazimierz Czarnecki in the Supersonic Pressure Tunnel. \",\n",
        "  \"Dates\": []},\n",
        "  {\"Sentence\": \"The 4 by 4 foot (1.2 \",\n",
        "  \"Dates\": []},\n",
        "  {\"Sentence\": \"W) wind tunnel was used to study forces on a model by generating winds at almost twice the speed of sound.[5] \",\n",
        "  \"Dates\": []},\n",
        "  {\"Sentence\": \"Czarnecki encouraged Jackson to undergo training so that she could be promoted to an engineer. \",\n",
        "  \"Dates\": []},\n",
        "  {\"Sentence\": \"She needed to take graduate-level courses in mathematics and physics to qualify for the job. \",\n",
        "  \"Dates\": []},\n",
        "  {\"Sentence\": \"They were offered in a night program by the University of Virginia, held at the all-white Hampton High School. \",\n",
        "  \"Dates\": []},\n",
        "  {\"Sentence\": \"Jackson petitioned the City of Hampton to allow her to attend the classes. \",\n",
        "  \"Dates\": []},\n",
        "  {\"Sentence\": \"After completing the courses, she was promoted to aerospace engineer in 1958, and became NASA's first black female engineer.[13][8][5] \",\n",
        "  \"Dates\": []},\n",
        "  {\"Sentence\": \"In the early 60's she analyzed data from wind tunnel experiments and real-world aircraft flight experiments at the Theoretical Aerodynamics Branch of the Subsonic-Transonic Aerodynamics Division at Langley.[7] \",\n",
        "  \"Dates\": []},\n",
        "  {\"Sentence\": \"Her goal was to understand air flow, including thrust and drag forces, in order to improve United States planes.[7]\",\n",
        "  \"Dates\": []},\n",
        "  {\"Sentence\": \"Jackson worked as an engineer in several NASA divisions: the Compressibility Research Division, Full-Scale Research Division, High-Speed Aerodynamics Division, and the Subsonic-Transonic Aerodynamics Division.[11] \",\n",
        "  \"Dates\": []},\n",
        "  {\"Sentence\": \"She ultimately authored or co-authored 12 technical papers for NACA and NASA.[11][14][15][16] \",\n",
        "  \"Dates\": []},\n",
        "  {\"Sentence\": \"She worked to help women and other minorities to advance their careers, including advising them how to study in order to qualify for promotions.[17]\",\n",
        "  \"Dates\": []},\n",
        "  {\"Sentence\": \"By 1979, Jackson had achieved the most senior title within the engineering department. \",\n",
        "  \"Dates\": []},\n",
        "  {\"Sentence\": \"She decided to take a demotion in order to serve as an administrator in the Equal Opportunity Specialist field. \",\n",
        "  \"Dates\": []},\n",
        "  {\"Sentence\": \"After undergoing training at NASA Headquarters, she returned to Langley. \",\n",
        "  \"Dates\": []},\n",
        "  {\"Sentence\": \"She worked to make changes and highlight women and other minorities who were accomplished in the field. \",\n",
        "  \"Dates\": []},\n",
        "  {\"Sentence\": \"She served as both the Federal Women's Program Manager in the Office of Equal Opportunity Programs and as the Affirmative Action Program Manager, and she worked to influence the career paths of women in science, engineering, and mathematics positions at NASA.[5][17] \",\n",
        "  \"Dates\": []},\n",
        "  {\"Sentence\": \"She continued to work at NASA until her retirement in 1985.[6]\",\n",
        "  \"Dates\": []},\n",
        "  {\"Sentence\": \"Legacy\",\n",
        "  \"Dates\": []},\n",
        "  {\"Sentence\": \"The 2016 film Hidden Figures recounts the NASA careers of Jackson, Katherine Johnson, and Dorothy Vaughan, specifically their work on Project Mercury during the Space Race. \",\n",
        "  \"Dates\": []},\n",
        "  {\"Sentence\": \"The film is based on the book of the same name by Margot Lee Shetterly. \",\n",
        "  \"Dates\": []},\n",
        "  {\"Sentence\": \"Jackson is portrayed in the film by Janelle Monáe.[18]\",\n",
        "  \"Dates\": []},\n",
        "  {\"Sentence\": \"In 2018, the Salt Lake City School Board voted that Jackson Elementary School in Salt Lake City, Utah, would from then on be officially named after Mary Jackson rather than (as it used to be) after President Andrew Jackson.[19]\",\n",
        "  \"Dates\": []},\n",
        "  {\"Sentence\": \"NASA's headquarters building in Washington, D.\",\n",
        "  \"Dates\": []},\n",
        "  {\"Sentence\": \"C. \",\n",
        "  \"Dates\": []},\n",
        "  {\"Sentence\": \"Mary W. \",\n",
        "  \"Dates\": []},\n",
        "  {\"Sentence\": \"Jackson NASA Headquarters on February 26, 2021.[20][3][21]\",\n",
        "  \"Dates\": [\"2021-02-26\"]},\n",
        "  {\"Sentence\": \"Text from https://en.\",\n",
        "  \"Dates\": []},\n",
        "  {\"Sentence\": \"Mary_Jackson_(engineer), adapted by the teaching team\",\n",
        "  \"Dates\": []},\n",
        "  \n",
        "]"
      ],
      "execution_count": 65,
      "outputs": []
    },
    {
      "cell_type": "markdown",
      "metadata": {
        "id": "0LOC_Y0e5AOn"
      },
      "source": [
        "**Now, let's run your date expression procedure on the unseen text *MaryJackson.txt* and look at the resulting DataFrame.**\n",
        " "
      ]
    },
    {
      "cell_type": "code",
      "metadata": {
        "id": "J6Q37zlx5jdQ",
        "colab": {
          "base_uri": "https://localhost:8080/"
        },
        "outputId": "f0d87f57-f67a-49da-a3c6-e2dbc7693f1a"
      },
      "source": [
        "\n",
        "df = get_sorted_df_from_file_name(os.path.join(working_dir, 'MaryJackson.txt'))\n",
        "pd.set_option('display.max_rows', df.shape[0]+1)\n",
        "print(df)"
      ],
      "execution_count": 66,
      "outputs": [
        {
          "output_type": "stream",
          "name": "stdout",
          "text": [
            "                         Date                                           Sentence\n",
            "ISO                                                                             \n",
            "1921-04-09      April 9, 1921  Mary Jackson (née Winston;[1] April 9, 1921 – ...\n",
            "1921-04-09      April 9, 1921  Mary Winston was born on April 9, 1921, to Ell...\n",
            "1944-11-18  November 18, 1944  Jackson was married on November 18, 1944 to Le...\n",
            "2005-02-11  February 11, 2005  Mary Jackson (née Winston;[1] April 9, 1921 – ...\n",
            "2005-02-11  February 11, 2005      She died on February 11, 2005, age 83.[6]\\n\\n\n",
            "2021-02-26  February 26, 2021  Jackson NASA Headquarters on February 26, 2021...\n"
          ]
        }
      ]
    },
    {
      "cell_type": "markdown",
      "metadata": {
        "id": "_ByoHYvMBAJn"
      },
      "source": [
        "#### Task 9:  Make adaptations to your date extraction code if necessary. Do not change the functions from the previous part in this assignment, but make your adjustments by changing the three functions below. \n",
        "\n",
        "Currently, each of these \"adapted\" functions just uses the functions from the previous parts. If you want to make any changes to one of the functions, overwrite this return statement with your changes. "
      ]
    },
    {
      "cell_type": "code",
      "metadata": {
        "id": "EjDEzbp2BAJo"
      },
      "source": [
        "def sentence_tokenize_text_adapted(text):\n",
        "  \"\"\"\n",
        "  :param text: An input text, i.e. a string\n",
        "  :return: A list of strings, where each string is one sentence\n",
        "  \"\"\"\n",
        "  return sentence_tokenize_text(text)\n",
        "\n",
        "\n",
        "def extract_date_expressions_adapted(sentences):\n",
        "  \"\"\"\n",
        "  :param sentences: A list of strings, where each string is one sentences\n",
        "  :return: A pandas DataFrame with the columns \n",
        "                \"Date\" (extracted date expressions as a string)\n",
        "                \"Sentence\" (sentences from which a date expression was extracted)\n",
        "  \"\"\"\n",
        "  return extract_date_expressions(sentences)\n",
        "\n",
        "\n",
        "def date_expression_to_iso8601_adapted(date_string):\n",
        "  \"\"\"\n",
        "  :param date_string: A string containing a date expression\n",
        "  :return: A string containing the date in ISO 8601 format\n",
        "  \"\"\"\n",
        "  return date_expression_to_iso8601(date_string)\n",
        "\n",
        "\n",
        "def get_sorted_df_from_file_name_adapted(file_name):\n",
        "  \"\"\"\n",
        "  :param file_name: A string containing the full path to a file\n",
        "  :return: A pandas DataFrame with the columns \"Date\", \"Sentence\" and \"ISO\" \n",
        "          (see above), where rows are sorted according to \"ISO\"\n",
        "  \"\"\"\n",
        "  return get_sorted_df_from_file_name(file_name)"
      ],
      "execution_count": 67,
      "outputs": []
    },
    {
      "cell_type": "markdown",
      "metadata": {
        "id": "iBlpaFHOBAJo"
      },
      "source": [
        "#### Task 10: Discuss the difficulties you encountered during the development of the time patterns and extracting the timeline. \n",
        "Also address the adaptations that you needed to make for processing the unseen biography MaryJackson.txt. \n",
        "\n",
        "Write your discussion into the cell below. "
      ]
    },
    {
      "cell_type": "markdown",
      "metadata": {
        "id": "jYiKrWtjBAJo"
      },
      "source": [
        "The main issue was finding the correct regular expressions, and knowing whattype of date expressions were required for the assignment. For instance, I started out extracting all the years and only later went back and removed those, to only include exact dates (as I think that was requested by the assignment). Once the regex was done the code worked however, and I didn't need to make any adjustments for Mary Jackson's part\n",
        "\n",
        "Oh and there is no utils or confusion matrix so that doesn't work unfortunately."
      ]
    },
    {
      "cell_type": "markdown",
      "metadata": {
        "id": "YOJbQGVj5hwV"
      },
      "source": [
        "**Now, we can evaluate your adapted date expression procedure. Let's plot one confusion matrix for each of the text files. **"
      ]
    },
    {
      "cell_type": "code",
      "metadata": {
        "id": "mZhQEZpi4-fE",
        "colab": {
          "base_uri": "https://localhost:8080/",
          "height": 923
        },
        "outputId": "053f9feb-35fe-4d4c-e614-14fb118e5ee2"
      },
      "source": [
        "print('Confusion matrix for Katherine Johnson:')\n",
        "plot_confusion_matrix(manual_labels = katherine_manual_labels, \n",
        "                      sorted_date_df = get_sorted_df_from_file_name_adapted(os.path.join(working_dir, 'KatherineJohnson.txt')),\n",
        "                      normalize    = False,\n",
        "                      title_names = ['Positive','Negative'])\n",
        "\n",
        "print('Confusion matrix for Mary Jackson:')\n",
        "plot_confusion_matrix(manual_labels = mary_manual_labels, \n",
        "                      sorted_date_df = get_sorted_df_from_file_name_adapted(os.path.join(working_dir, 'MaryJackson.txt')),\n",
        "                      normalize    = False,\n",
        "                      title_names = ['Positive','Negative'])"
      ],
      "execution_count": 68,
      "outputs": [
        {
          "output_type": "stream",
          "name": "stdout",
          "text": [
            "Confusion matrix for Katherine Johnson:\n"
          ]
        },
        {
          "output_type": "display_data",
          "data": {
            "image/png": "[encoded data removed]",
            "text/plain": [
              "<Figure size 576x432 with 1 Axes>"
            ]
          },
          "metadata": {
            "needs_background": "light"
          }
        },
        {
          "output_type": "stream",
          "name": "stdout",
          "text": [
            "Confusion matrix for Mary Jackson:\n"
          ]
        },
        {
          "output_type": "display_data",
          "data": {
            "image/png": "[encoded data removed]",
            "text/plain": [
              "<Figure size 576x432 with 1 Axes>"
            ]
          },
          "metadata": {
            "needs_background": "light"
          }
        }
      ]
    },
    {
      "cell_type": "markdown",
      "metadata": {
        "id": "Mis3cKpXBAJo"
      },
      "source": [
        "#### Task 11: Calculate the precision of your adapted date expression procedure on both KatherineJohnson.txt and MaryJackson.txt.\n",
        "\n",
        "Write your calculations into the cell below."
      ]
    },
    {
      "cell_type": "markdown",
      "metadata": {
        "id": "YXBmTI_jBAJo"
      },
      "source": [
        "Katherine Johnson's didn't change: $\\frac{2}{2 + 1}$, and for Mary Jackson there are 6 dates, which all have been correctly identified by the algorithm, so $\\frac{6}{6 + 0}$"
      ]
    },
    {
      "cell_type": "markdown",
      "metadata": {
        "id": "AuyKThl2BAJp"
      },
      "source": [
        "#### Task 12: Compare the precisions on KatherineJohnson.txt and MaryJackson.txt. Address the following points: \n",
        "- Are there any differences? \n",
        "- If so, where does this difference come from? \n",
        "- What does this difference mean in terms of generalizability? "
      ]
    },
    {
      "cell_type": "markdown",
      "metadata": {
        "id": "NwZM7OBsBAJp"
      },
      "source": [
        "There are no differences, the algorithm performs perfectly on both."
      ]
    },
    {
      "cell_type": "markdown",
      "metadata": {
        "id": "HQEmxaF3BAJp"
      },
      "source": [
        "### Finding matching events\n",
        "#### Task 13: Find the matching events (i.e. overlapping dates in the two biographical timelines) between the two timelines. \n",
        "\n",
        "You could do this in one of the following ways: \n",
        "- **Command line** We highly encourage you to use the ‘comm’ function on your ISO-8601 dates in your command line (more info and example: https://www.computerhope.com/unix/ucomm.htm. Note that this command also works on Mac OS/Windows). \n",
        "- **Python** It is also allowed to find the matching events programmatically in Python.\n",
        "- **Online tool ** You can use an online tool (e.g. https://text-compare.com/).\n",
        "\n",
        "**Important: Do not search for matching events manually!**\n",
        "\n",
        "Please put the command, the code or the link to the website you used into the cell below or briefly describe how you found the matching events.  \n",
        "\n",
        "Then, also paste the list of matching events (in ISO-8601 format) into that cell. \n"
      ]
    },
    {
      "cell_type": "code",
      "metadata": {
        "colab": {
          "base_uri": "https://localhost:8080/"
        },
        "id": "i4betxtSOXWQ",
        "outputId": "f05ba57e-97eb-4523-83bf-8abb639242ce"
      },
      "source": [
        "mary = get_sorted_df_from_file_name(os.path.join(working_dir, 'MaryJackson.txt'))['Date']\n",
        "katy = get_sorted_df_from_file_name(os.path.join(working_dir, 'KatherineJohnson.txt'))['Date']\n",
        "\n",
        "def check_duplicates(mary, katy):\n",
        "  for i in range(min(len(mary), len(katy))):\n",
        "    if mary[i] in katy:\n",
        "      return True\n",
        "    if katy[i] in mary:\n",
        "      return True\n",
        "  return False\n",
        "print(check_duplicates(mary, katy))\n"
      ],
      "execution_count": 57,
      "outputs": [
        {
          "output_type": "stream",
          "name": "stdout",
          "text": [
            "False\n"
          ]
        }
      ]
    },
    {
      "cell_type": "markdown",
      "metadata": {
        "id": "seCjCDB5BAJp"
      },
      "source": [
        "There are no exact dates on which something happens for both of these scientists, but there may be if entire years are included (and ranges). However, for that the dates are too inaccurate on the wikipedia pages and I understood from the assignment that specific dates are saved rather than ranges."
      ]
    },
    {
      "cell_type": "markdown",
      "metadata": {
        "id": "EMoICcPCBAJq"
      },
      "source": [
        "#### Task 14: Discussion of matching events \n",
        "1. Discuss the list of matching events that you found. \n",
        "2. When going through the texts manually, do you find matching events that you did not find programmatically/automatically? \n",
        "3. If so, what could be the reason(s) for this? Discuss your answers to these questions and any other difficulties you encountered during the extraction of matching events."
      ]
    },
    {
      "cell_type": "markdown",
      "metadata": {
        "id": "l9EtialZcvRS"
      },
      "source": [
        "There were no matching events, so this task makes me think I missed something haha"
      ]
    },
    {
      "cell_type": "code",
      "metadata": {
        "id": "GuRKcGAw-5wG",
        "colab": {
          "base_uri": "https://localhost:8080/"
        },
        "outputId": "1c015992-a93a-4764-b219-bbcb6ba79e6e"
      },
      "source": [
        "print('Congratulations! You finished this assignment!')\n",
        "print('We would like to thank Theo Kent for letting us use his notebook as a basis for this assignment!')"
      ],
      "execution_count": 58,
      "outputs": [
        {
          "output_type": "stream",
          "name": "stdout",
          "text": [
            "Congratulations! You finished this assignment!\n",
            "We would like to thank Theo Kent for letting us use his notebook as a basis for this assignment!\n"
          ]
        }
      ]
    }
  ]
}